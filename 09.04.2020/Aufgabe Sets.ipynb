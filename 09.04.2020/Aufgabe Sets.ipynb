{
 "cells": [
  {
   "cell_type": "markdown",
   "metadata": {},
   "source": [
    "## Aufgabe: Sets\n",
    "\n",
    "Den Umgang mit einem Set möchten wir jetzt natürlich etwas üben. ;-)\n",
    "\n",
    "**Aufgabe:**\n",
    "\n",
    "Öffne die ../data/names.csv - Datei als .csv-Datei und berechne die Anzahl der verschiedenen Vornamen, die in dieser Datei aufgelistet sind!\n",
    "\n",
    "**Tipps:**\n",
    "\n",
    "- Die Dokumentation zum csv-Modul von Python findest du hier: https://docs.python.org/3.6/library/csv.html.\n",
    "- Verwende dazu ein Set. Damit geht das ganze ziemlich easy. :-)"
   ]
  },
  {
   "cell_type": "code",
   "execution_count": null,
   "metadata": {
    "collapsed": true
   },
   "outputs": [],
   "source": []
  },
  {
   "cell_type": "code",
   "execution_count": null,
   "metadata": {
    "collapsed": true
   },
   "outputs": [],
   "source": []
  }
 ],
 "metadata": {
  "kernelspec": {
   "display_name": "Python 3",
   "language": "python",
   "name": "python3"
  },
  "language_info": {
   "codemirror_mode": {
    "name": "ipython",
    "version": 3
   },
   "file_extension": ".py",
   "mimetype": "text/x-python",
   "name": "python",
   "nbconvert_exporter": "python",
   "pygments_lexer": "ipython3",
   "version": "3.6.3"
  }
 },
 "nbformat": 4,
 "nbformat_minor": 2
}
