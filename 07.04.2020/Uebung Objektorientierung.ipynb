{
 "cells": [
  {
   "cell_type": "markdown",
   "metadata": {},
   "source": [
    "# Übung: Objektorientierte Programmierung\n",
    "\n",
    "Anbei findest du ein paar Aufgaben zum Programmieren. Viel Spaß dabei! :)\n",
    "\n",
    "Wenn du mit diesem Übungsblatt fertig bist, kannst du deine Lösung mit der Musterlösung in Textform (Datei: `Uebung Objektorientierung (Musterloesung)`) vergleichen. \n",
    "\n",
    "Die Video-Musterlösung (in der nächsten Lektion) ist besonders ausführlich gehalten. Wenn du alles richtig gelöst hast, ist es vollkommen okay, wenn du diese Lektion dann überspringst."
   ]
  },
  {
   "cell_type": "markdown",
   "metadata": {},
   "source": [
    "### Aufgabe 1: Modelliere einen Würfel"
   ]
  },
  {
   "cell_type": "markdown",
   "metadata": {},
   "source": [
    "Erstelle eine Klasse _Cube_, mit der du einen Würfel modellierst! Die Würfel-Klasse soll als Eigenschaft die Länge einer Würfel-Seite besitzen. Darüber hinaus soll die Klasse auch zwei Methoden haben: die Methode `volume()` berechnet das Volumen und gibt es aus, die Methode `surface()` berechnet die Oberfläche und gibt sie aus."
   ]
  },
  {
   "cell_type": "code",
   "execution_count": 1,
   "metadata": {},
   "outputs": [
    {
     "name": "stdout",
     "output_type": "stream",
     "text": [
      "54\n",
      "27\n"
     ]
    }
   ],
   "source": [
    "class Cube():\n",
    "    # Ergänze hier deinen Code\n",
    "        \n",
    "\n",
    "# danach erzeugen wir eine Instanz deiner Cube-Klasse \n",
    "a = Cube(3)\n",
    "\n",
    "# und testen die Methoden\n",
    "a.surface()\n",
    "a.volume()"
   ]
  },
  {
   "cell_type": "markdown",
   "metadata": {},
   "source": [
    "Erwartete Ausgabe:\n",
    "\n",
    "```\n",
    "54\n",
    "27\n",
    "```"
   ]
  },
  {
   "cell_type": "markdown",
   "metadata": {},
   "source": [
    "### Aufgabe 2: Modelliere ein Kugel"
   ]
  },
  {
   "cell_type": "markdown",
   "metadata": {},
   "source": [
    "Die Kugel-Klasse soll als Eigenschaft den Radius übergeben bekommen. Zudem soll sie - ähnlich wie der Würfel - zwei Methoden haben: `surface()` um den Oberflächeninhalt zu berechnen, `volume()` um das Volumen zu berechnen.\n",
    "\n",
    "Damit du diese Berechnungen durchführen kannst, benötigst du die Kreiszahl Pi. Diese steht dir nach einem `import math` unter `math.pi` zur Verfügung (was der `import` - Befehl genau macht, schauen wir uns noch später im Kurs an).\n",
    "\n",
    "Die Formeln für den Oberflächeninhalt / das Volumen einer Kugel darfst du im Internet nachgucken."
   ]
  },
  {
   "cell_type": "code",
   "execution_count": 6,
   "metadata": {},
   "outputs": [
    {
     "name": "stdout",
     "output_type": "stream",
     "text": [
      "3.141592653589793\n"
     ]
    }
   ],
   "source": [
    "import math\n",
    "print(math.pi)"
   ]
  },
  {
   "cell_type": "code",
   "execution_count": 8,
   "metadata": {},
   "outputs": [
    {
     "name": "stdout",
     "output_type": "stream",
     "text": [
      "201.06192982974676\n",
      "268.082573106329\n"
     ]
    }
   ],
   "source": [
    "import math\n",
    "\n",
    "class Ball():\n",
    "    # Ergänze hier deinen Code\n",
    "        \n",
    "\n",
    "b = Ball(4)\n",
    "b.surface()\n",
    "b.volume()"
   ]
  },
  {
   "cell_type": "markdown",
   "metadata": {},
   "source": [
    "Erwartete Ausgabe (es reicht, wenn die Zahlenwerte auf ein paar Nachkommastellen genau sind):\n",
    "\n",
    "```\n",
    "201.06192982974676\n",
    "268.082573106329\n",
    "```"
   ]
  },
  {
   "cell_type": "markdown",
   "metadata": {},
   "source": [
    "### Aufgabe 3: Modelliere ein Konto\n",
    "\n",
    "#### a.) \n",
    "\n",
    "Erstelle die Konto-Klasse _Account_ mit der Eigenschaft Kontostand _credits_! Diese Eigenschaft wird mit einem Startkapital initialisiert. Die Methode `display()` soll den aktuellen Kontostand ausgeben. "
   ]
  },
  {
   "cell_type": "code",
   "execution_count": 8,
   "metadata": {},
   "outputs": [
    {
     "name": "stdout",
     "output_type": "stream",
     "text": [
      "500\n"
     ]
    }
   ],
   "source": [
    "class Account():\n",
    "    # Ergänze hier deinen Code\n",
    "        \n",
    "Kunde111 = Account(500)\n",
    "Kunde111.display()"
   ]
  },
  {
   "cell_type": "markdown",
   "metadata": {},
   "source": [
    "Erwartete Ausgabe:\n",
    "\n",
    "```\n",
    "500\n",
    "```"
   ]
  },
  {
   "cell_type": "markdown",
   "metadata": {},
   "source": [
    "**b.)**\n",
    "\n",
    "Ergänze die Klasse _Account_ um zwei Methoden (`pay_in()` zum Einzahlen, `withdraw()` zum Abheben), so dass du Geldbeträge einzahlen und abbuchen kannst, und der Kontostand entsprechend angepasst wird. \n",
    "\n",
    "Du sollst nur Geld abheben können, so lange auch Geld auf dem Konto ist. Ein Dispo-Kredit wird nicht gewährt. In dem Fall soll eine Fehlermeldung ausgegeben werden, in der steht, wieviel Geld maximal abgebucht werden kann."
   ]
  },
  {
   "cell_type": "code",
   "execution_count": 9,
   "metadata": {},
   "outputs": [
    {
     "name": "stdout",
     "output_type": "stream",
     "text": [
      "500\n",
      "540\n",
      "515\n",
      "Du kannst nur noch 515€ abheben!\n"
     ]
    }
   ],
   "source": [
    "class Account():\n",
    "    \n",
    "    # Ergänze hier deinen Code. Du darfst den Code aus a) \n",
    "    # natürlich hierhin übernehmen.\n",
    "    \n",
    "        \n",
    "Kunde111 = Account(500)\n",
    "Kunde111.display()\n",
    "Kunde111.pay_in(40)\n",
    "Kunde111.display()\n",
    "Kunde111.withdraw(25)\n",
    "Kunde111.display()\n",
    "Kunde111.withdraw(600)"
   ]
  },
  {
   "cell_type": "markdown",
   "metadata": {},
   "source": [
    "Erwartete Ausgabe:\n",
    "\n",
    "```\n",
    "500\n",
    "540\n",
    "515\n",
    "Du kannst nur noch 515€ abheben!\n",
    "```"
   ]
  },
  {
   "cell_type": "markdown",
   "metadata": {},
   "source": [
    "**c.)**\n",
    "\n",
    "Bislang ist das Konto noch ungeschützt - wir brauchen eine PIN! Ergänze in der Klasse die Eigenschaft _pin_! So wie mit dem Startkapital soll das Konto auch mit einer PIN initialisiert werden.\n",
    "\n",
    "Von nun an muss man beim Geldabheben nicht nur den Betrag, sondern auch die PIN angeben: Nur wenn die PIN mit der des Kontos übereinstimmt, kann auch Geld abgebucht werden, ansonsten kommt es zu einer Fehlermeldung!"
   ]
  },
  {
   "cell_type": "code",
   "execution_count": 11,
   "metadata": {},
   "outputs": [
    {
     "name": "stdout",
     "output_type": "stream",
     "text": [
      "500\n",
      "540\n",
      "515\n",
      "Falsche PIN! Konto gesperrt! Du bist verhaftet! Hände hoch!\n"
     ]
    }
   ],
   "source": [
    "class Account():\n",
    "    # Ergänze hier deinen Code. Du darfst den Code aus b) \n",
    "    # natürlich hierhin übernehmen.\n",
    "    \n",
    "        \n",
    "Kunde111 = Account(500, \"1234\")\n",
    "Kunde111.display()\n",
    "Kunde111.pay_in(40)\n",
    "Kunde111.display()\n",
    "Kunde111.withdraw(25, \"1234\")\n",
    "Kunde111.display()\n",
    "Kunde111.withdraw(600, \"12345\")"
   ]
  },
  {
   "cell_type": "markdown",
   "metadata": {},
   "source": [
    "Erwartete Ausgabe:\n",
    "\n",
    "```\n",
    "500\n",
    "540\n",
    "515\n",
    "Falsche PIN! Konto gesperrt! Du bist verhaftet! Hände hoch!\n",
    "```"
   ]
  },
  {
   "cell_type": "markdown",
   "metadata": {},
   "source": [
    "### Aufgabe 4: Modelliere einen Zug\n",
    "\n",
    "\n",
    "**a.)**\n",
    "\n",
    "Jetzt wirst du Zugobjekte bauen! Erstelle die Klasse _Train_, die mit den Eigenschaften _route_ und _position_ initialisiert wird! Bei _route_ handelt es sich um eine Liste mit den Haltebahnhöfen des Zuges. _position_ steht für den Index des Bahnhofs aus der Liste, an dem sich der Zug gerade befindet bzw. von dem er zuletzt abgefahren ist (wo genau sich der Zug auf der Strecke zwischen zwei Bahnhöfen befindet, interessiert uns hier nicht). Mit der Methode `show_station()` soll der Name dieses Bahnhofs ausgegeben werden."
   ]
  },
  {
   "cell_type": "code",
   "execution_count": 12,
   "metadata": {},
   "outputs": [
    {
     "name": "stdout",
     "output_type": "stream",
     "text": [
      "Paris\n"
     ]
    }
   ],
   "source": [
    "class Train():\n",
    "    # Ergänze hier deinen Code\n",
    "    \n",
    "orientexpress = Train([\"Paris\", \"Budapest\", \"Bukarest\", \"Istanbul\"], 0)\n",
    "orientexpress.show_station()"
   ]
  },
  {
   "cell_type": "markdown",
   "metadata": {},
   "source": [
    "Erwartete Ausgabe:\n",
    "\n",
    "```\n",
    "Paris\n",
    "```\n"
   ]
  },
  {
   "cell_type": "markdown",
   "metadata": {},
   "source": [
    "**b.)**\n",
    "\n",
    "Bisher sitzt ein Zug der Klasse _Train_ noch in seinem Startbahnhof fest. Ergänze nun zwei Methoden `move()` und `move_back()`, mit denen man einen Zug auf seiner Route zur nächsten bzw. zur vorherigen Station bewegen kann, sofern es diese Station auf der Route gibt. Der Zug darf seine Route nicht verlassen!\n"
   ]
  },
  {
   "cell_type": "code",
   "execution_count": 14,
   "metadata": {},
   "outputs": [
    {
     "name": "stdout",
     "output_type": "stream",
     "text": [
      "Paris\n",
      "Budapest\n",
      "Bukarest\n",
      "Istanbul\n",
      "Endstation! Alle aussteigen!\n",
      "Bukarest\n"
     ]
    }
   ],
   "source": [
    "class Train():\n",
    "    \n",
    "    # Ergänze hier deinen Code. Du darfst natürlich deinen Code aus\n",
    "    # Teilaufgabe a) hierhin übernehmen.\n",
    "            \n",
    "orientexpress = Train([\"Paris\", \"Budapest\", \"Bukarest\", \"Istanbul\"], 0)\n",
    "orientexpress.show_station()\n",
    "orientexpress.move()\n",
    "orientexpress.show_station()\n",
    "orientexpress.move()\n",
    "orientexpress.show_station()\n",
    "orientexpress.move()\n",
    "orientexpress.show_station()\n",
    "orientexpress.move()\n",
    "orientexpress.move_back()\n",
    "orientexpress.show_station()"
   ]
  },
  {
   "cell_type": "markdown",
   "metadata": {},
   "source": [
    "Erwartete Ausgabe:\n",
    "\n",
    "```\n",
    "Paris\n",
    "Budapest\n",
    "Bukarest\n",
    "Istanbul\n",
    "Endstation! Alle aussteigen!\n",
    "Bukarest\n",
    "```"
   ]
  },
  {
   "cell_type": "markdown",
   "metadata": {},
   "source": [
    "**c.)**\n",
    "\n",
    "Die Route soll nachträglich bearbeitet werden können, indem man mit einer Methode `bypass_station()` einen anzugebenden Haltebahnhof von der Route entfernt. Der Zug soll dann sicherheitshalber an den Start der Route versetzt werden, sofern er sich nicht schon dort befindet.\n",
    "\n",
    "**Tipp:** Erinnere dich an die Methoden für Listen! :-)"
   ]
  },
  {
   "cell_type": "code",
   "execution_count": 15,
   "metadata": {},
   "outputs": [
    {
     "name": "stdout",
     "output_type": "stream",
     "text": [
      "Bukarest\n"
     ]
    }
   ],
   "source": [
    "class Train():\n",
    "    \n",
    "    # Ergänze hier deinen Code. Du darfst natürlich deinen Code aus\n",
    "    # Teilaufgabe b) hierhin übernehmen.\n",
    "    \n",
    "            \n",
    "orientexpress = Train([\"Paris\", \"Budapest\", \"Bukarest\", \"Istanbul\"], 0)\n",
    "orientexpress.bypass_station(\"Budapest\")\n",
    "orientexpress.move()\n",
    "orientexpress.show_station()"
   ]
  },
  {
   "cell_type": "markdown",
   "metadata": {},
   "source": [
    "Erwartete Ausgabe:\n",
    "\n",
    "```\n",
    "Bukarest\n",
    "```"
   ]
  },
  {
   "cell_type": "markdown",
   "metadata": {},
   "source": [
    "#### Gut gemacht :-) "
   ]
  }
 ],
 "metadata": {
  "kernelspec": {
   "display_name": "Python 3",
   "language": "python",
   "name": "python3"
  },
  "language_info": {
   "codemirror_mode": {
    "name": "ipython",
    "version": 3
   },
   "file_extension": ".py",
   "mimetype": "text/x-python",
   "name": "python",
   "nbconvert_exporter": "python",
   "pygments_lexer": "ipython3",
   "version": "3.6.3"
  }
 },
 "nbformat": 4,
 "nbformat_minor": 2
}
