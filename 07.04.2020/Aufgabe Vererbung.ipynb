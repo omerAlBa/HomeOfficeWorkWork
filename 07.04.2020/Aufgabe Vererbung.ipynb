{
 "cells": [
  {
   "cell_type": "markdown",
   "metadata": {},
   "source": [
    "## Aufgabe: Vererbung\n",
    "\n",
    "#### Aufgabe 1:\n",
    "\n",
    "Vervollständige die Klasse \"FileReader\" so, dass bei Aufruf der lines() - Methode die Datei Zeile für Zeile eingelesen wird. Die lines() - Methode soll dann eine Liste der Zeilen in der Datei zurückgeben.\n",
    "\n",
    "#### Aufgabe 2:\n",
    "\n",
    "Erstelle die Klasse \"CsvReader\", sodass der \"FileReader\" erweitert wird. Bei Aufruf der lines() soll die Datei als .csv-Datei eingelesen werden, sprich es soll eine mehrdimensionale Liste zurückgegeben werden. \n",
    "\n",
    "**Wichtig:** Überlass' das Einlesen der Datei dem \"FileReader\", und erweitere die lines() - Methode im Csv-Reader um die Funktionalität, die benötigt wird, damit die mehrdimensionale Liste zurückgegeben wird!"
   ]
  },
  {
   "cell_type": "code",
   "execution_count": 1,
   "metadata": {
    "collapsed": true
   },
   "outputs": [],
   "source": [
    "class FileReader():\n",
    "    pass"
   ]
  },
  {
   "cell_type": "code",
   "execution_count": null,
   "metadata": {
    "collapsed": true
   },
   "outputs": [],
   "source": [
    "f = FileReader(\"./datei.csv\")\n",
    "print(f.lines())\n",
    "\n",
    "# Hier soll ausgegeben werden:\n",
    "# [\"Nachname,Vorname\", \"Mustermann,Max\", \"Mueller,Monika\"]"
   ]
  },
  {
   "cell_type": "code",
   "execution_count": null,
   "metadata": {
    "collapsed": true
   },
   "outputs": [],
   "source": [
    "f = CsvReader(\"./datei.csv\")\n",
    "print(f.lines())\n",
    "\n",
    "# Hier soll ausgegeben werden:\n",
    "# [[\"Nachname\", \"Vorname\"], [\"Mustermann\", \"Max\"], [\"Mueller\", \"Monika\"]]"
   ]
  }
 ],
 "metadata": {
  "kernelspec": {
   "display_name": "Python 3",
   "language": "python",
   "name": "python3"
  },
  "language_info": {
   "codemirror_mode": {
    "name": "ipython",
    "version": 3
   },
   "file_extension": ".py",
   "mimetype": "text/x-python",
   "name": "python",
   "nbconvert_exporter": "python",
   "pygments_lexer": "ipython3",
   "version": "3.6.3"
  }
 },
 "nbformat": 4,
 "nbformat_minor": 2
}
